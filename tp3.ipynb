{
 "cells": [
  {
   "cell_type": "markdown",
   "metadata": {},
   "source": [
    "# TP 3"
   ]
  },
  {
   "cell_type": "markdown",
   "metadata": {},
   "source": [
    "## Ejercicio 1\n",
    "\n",
    "Un sistema de procesamiento digital de señales (DSP) se encuentra descripto por la siguiente\n",
    "ecuación a diferencias:\n",
    "\n",
    "$$ y(n) + 0.1y(n-1) - 0.2y(n-2) = x(n) + x(n-1) $$\n",
    "\n",
    "Demuestre analíticamente que la respuesta al impulso del sistema y la respuesta al escalón\n",
    "unitario son, respectivamente:\n",
    "\n",
    "$$ y(n) = {1.5556(0.4)^{n}} u(n) - {0.5556(-0.5)^{n}} u(n) $$\n",
    "$$ y(n) = 2.22222 u(n) - {1.0370(-0.4)^{n}} u(n) - {0.1852(-0.5)^{n}} u(n) $$\n"
   ]
  },
  {
   "cell_type": "markdown",
   "metadata": {},
   "source": [
    "### Resolución"
   ]
  },
  {
   "cell_type": "code",
   "execution_count": 1,
   "metadata": {},
   "outputs": [
    {
     "data": {
      "image/png": "[encoded data removed]",
      "text/latex": [
       "$\\displaystyle y{\\left(n \\right)} - 0.2 y{\\left(n - 2 \\right)} + 0.1 y{\\left(n - 1 \\right)} = x{\\left(n \\right)} + x{\\left(n - 1 \\right)}$"
      ],
      "text/plain": [
       "y(n) - 0.2⋅y(n - 2) + 0.1⋅y(n - 1) = x(n) + x(n - 1)"
      ]
     },
     "execution_count": 1,
     "metadata": {},
     "output_type": "execute_result"
    }
   ],
   "source": [
    "import warnings\n",
    "from matplotlib import MatplotlibDeprecationWarning\n",
    "warnings.filterwarnings(\"ignore\", category=MatplotlibDeprecationWarning)\n",
    "\n",
    "import sympy as sp\n",
    "sp.init_printing()\n",
    "\n",
    "n_to_z = lambda f_z, z, n: lambda k: f_z(z)*z**(k-n)\n",
    "\n",
    "y, x = sp.symbols(\"y x\", cls=sp.Function)\n",
    "y_z, x_z = sp.symbols(\"Y X\", cls=sp.Function)\n",
    "n = sp.symbols(\"n\", integer=True)\n",
    "z = sp.symbols(\"z\")\n",
    "\n",
    "sys = sp.Eq(y(n) + 0.1*y(n-1) - 0.2*y(n-2), x(n) + x(n-1))\n",
    "\n",
    "sys"
   ]
  },
  {
   "cell_type": "code",
   "execution_count": 2,
   "metadata": {},
   "outputs": [
    {
     "data": {
      "image/png": "[encoded data removed]",
      "text/latex": [
       "$\\displaystyle x{\\left(n \\right)} + x{\\left(n - 1 \\right)} + 0.2 y{\\left(n - 2 \\right)} - 0.1 y{\\left(n - 1 \\right)}$"
      ],
      "text/plain": [
       "x(n) + x(n - 1) + 0.2⋅y(n - 2) - 0.1⋅y(n - 1)"
      ]
     },
     "execution_count": 2,
     "metadata": {},
     "output_type": "execute_result"
    }
   ],
   "source": [
    "sol, = sp.solve(\n",
    "    sys, y(n),\n",
    "    dict=True)\n",
    "\n",
    "y_ = sol[y(n)]\n",
    "y_"
   ]
  },
  {
   "cell_type": "code",
   "execution_count": 3,
   "metadata": {},
   "outputs": [],
   "source": [
    "def fsubs(expr, funcs: dict):\n",
    "    syms = funcs.keys()\n",
    "    return sp.lambdify(syms, expr)(*funcs.values())"
   ]
  },
  {
   "cell_type": "code",
   "execution_count": 4,
   "metadata": {},
   "outputs": [
    {
     "data": {
      "image/png": "[encoded data removed]",
      "text/latex": [
       "$\\displaystyle \\frac{10.0 z \\left(z + 1.0\\right)}{10.0 z^{2} + z - 2.0}$"
      ],
      "text/plain": [
       " 10.0⋅z⋅(z + 1.0)\n",
       "─────────────────\n",
       "      2          \n",
       "10.0⋅z  + z - 2.0"
      ]
     },
     "execution_count": 4,
     "metadata": {},
     "output_type": "execute_result"
    }
   ],
   "source": [
    "h_z_, = sp.solve(\n",
    "    sp.simplify(\n",
    "        sp.Eq(\n",
    "            y_z(z)/x_z(z),\n",
    "            fsubs(y_, {y: n_to_z(y_z, z, n), x: n_to_z(x_z, z, n)})/x_z(z))),\n",
    "y_z(z)/x_z(z))\n",
    "h_z_.simplify()\n"
   ]
  },
  {
   "cell_type": "code",
   "execution_count": 5,
   "metadata": {},
   "outputs": [
    {
     "data": {
      "text/latex": [
       "$\\displaystyle y(n) = - 0.185185185185185 \\left(-0.5\\right)^{n} - 1.03703703703704 \\cdot 0.4^{n} + 2.22222222222222 \\cdot 1.0^{n} \\;\\; \\text{for}\\: n \\geq 0$"
      ],
      "text/plain": [
       "                               n                       n                      \n",
       "y(n) = - 0.185185185185185⋅-0.5  - 1.03703703703704⋅0.4  + 2.22222222222222⋅1.\n",
       "\n",
       " n           \n",
       "0   for n ≥ 0"
      ]
     },
     "execution_count": 5,
     "metadata": {},
     "output_type": "execute_result"
    }
   ],
   "source": [
    "from lcapy.inverse_ztransform import inverse_ztransform\n",
    "\n",
    "sp.Eq(y(n), inverse_ztransform(\n",
    "    h_z_*z/(z-1),\n",
    "    z,\n",
    "    n\n",
    ").rewrite(sp.Heaviside))"
   ]
  },
  {
   "cell_type": "code",
   "execution_count": 6,
   "metadata": {},
   "outputs": [
    {
     "data": {
      "text/plain": [
       "[<matplotlib.lines.Line2D at 0x7f6dda234430>]"
      ]
     },
     "execution_count": 6,
     "metadata": {},
     "output_type": "execute_result"
    },
    {
     "data": {
      "image/png": "[encoded data removed]",
      "image/svg+xml": "<?xml version=\"1.0\" encoding=\"utf-8\" standalone=\"no\"?>\n<!DOCTYPE svg PUBLIC \"-//W3C//DTD SVG 1.1//EN\"\n  \"http://www.w3.org/Graphics/SVG/1.1/DTD/svg11.dtd\">\n<svg height=\"248.518125pt\" version=\"1.1\" viewBox=\"0 0 372.103125 248.518125\" width=\"372.103125pt\" xmlns=\"http://www.w3.org/2000/svg\" xmlns:xlink=\"http://www.w3.org/1999/xlink\">\n <metadata>\n  <rdf:RDF xmlns:cc=\"http://creativecommons.org/ns#\" xmlns:dc=\"http://purl.org/dc/elements/1.1/\" xmlns:rdf=\"http://www.w3.org/1999/02/22-rdf-syntax-ns#\">\n   <cc:Work>\n    <dc:type rdf:resource=\"http://purl.org/dc/dcmitype/StillImage\"/>\n    <dc:date>2022-10-02T13:01:32.077729</dc:date>\n    <dc:format>image/svg+xml</dc:format>\n    <dc:creator>\n     <cc:Agent>\n      <dc:title>Matplotlib v3.4.3, https://matplotlib.org/</dc:title>\n     </cc:Agent>\n    </dc:creator>\n   </cc:Work>\n  </rdf:RDF>\n </metadata>\n <defs>\n  <style type=\"text/css\">*{stroke-linecap:butt;stroke-linejoin:round;}</style>\n </defs>\n <g id=\"figure_1\">\n  <g id=\"patch_1\">\n   <path d=\"M 0 248.518125 \nL 372.103125 248.518125 \nL 372.103125 0 \nL 0 0 \nz\n\"/>\n  </g>\n  <g id=\"axes_1\">\n   <g id=\"patch_2\">\n    <path d=\"M 30.103125 224.64 \nL 364.903125 224.64 \nL 364.903125 7.2 \nL 30.103125 7.2 \nz\n\"/>\n   </g>\n   <g id=\"matplotlib.axis_1\">\n    <g id=\"xtick_1\">\n     <g id=\"line2d_1\">\n      <defs>\n       <path d=\"M 0 0 \nL 0 3.5 \n\" id=\"m33adb80848\" style=\"stroke:#ffffff;stroke-width:0.8;\"/>\n      </defs>\n      <g>\n       <use style=\"fill:#ffffff;stroke:#ffffff;stroke-width:0.8;\" x=\"45.321307\" xlink:href=\"#m33adb80848\" y=\"224.64\"/>\n      </g>\n     </g>\n     <g id=\"text_1\">\n      <!-- 0 -->\n      <g style=\"fill:#ffffff;\" transform=\"translate(42.140057 239.238438)scale(0.1 -0.1)\">\n       <defs>\n        <path d=\"M 2034 4250 \nQ 1547 4250 1301 3770 \nQ 1056 3291 1056 2328 \nQ 1056 1369 1301 889 \nQ 1547 409 2034 409 \nQ 2525 409 2770 889 \nQ 3016 1369 3016 2328 \nQ 3016 3291 2770 3770 \nQ 2525 4250 2034 4250 \nz\nM 2034 4750 \nQ 2819 4750 3233 4129 \nQ 3647 3509 3647 2328 \nQ 3647 1150 3233 529 \nQ 2819 -91 2034 -91 \nQ 1250 -91 836 529 \nQ 422 1150 422 2328 \nQ 422 3509 836 4129 \nQ 1250 4750 2034 4750 \nz\n\" id=\"DejaVuSans-30\" transform=\"scale(0.015625)\"/>\n       </defs>\n       <use xlink:href=\"#DejaVuSans-30\"/>\n      </g>\n     </g>\n    </g>\n    <g id=\"xtick_2\">\n     <g id=\"line2d_2\">\n      <g>\n       <use style=\"fill:#ffffff;stroke:#ffffff;stroke-width:0.8;\" x=\"106.194034\" xlink:href=\"#m33adb80848\" y=\"224.64\"/>\n      </g>\n     </g>\n     <g id=\"text_2\">\n      <!-- 10 -->\n      <g style=\"fill:#ffffff;\" transform=\"translate(99.831534 239.238438)scale(0.1 -0.1)\">\n       <defs>\n        <path d=\"M 794 531 \nL 1825 531 \nL 1825 4091 \nL 703 3866 \nL 703 4441 \nL 1819 4666 \nL 2450 4666 \nL 2450 531 \nL 3481 531 \nL 3481 0 \nL 794 0 \nL 794 531 \nz\n\" id=\"DejaVuSans-31\" transform=\"scale(0.015625)\"/>\n       </defs>\n       <use xlink:href=\"#DejaVuSans-31\"/>\n       <use x=\"63.623047\" xlink:href=\"#DejaVuSans-30\"/>\n      </g>\n     </g>\n    </g>\n    <g id=\"xtick_3\">\n     <g id=\"line2d_3\">\n      <g>\n       <use style=\"fill:#ffffff;stroke:#ffffff;stroke-width:0.8;\" x=\"167.066761\" xlink:href=\"#m33adb80848\" y=\"224.64\"/>\n      </g>\n     </g>\n     <g id=\"text_3\">\n      <!-- 20 -->\n      <g style=\"fill:#ffffff;\" transform=\"translate(160.704261 239.238438)scale(0.1 -0.1)\">\n       <defs>\n        <path d=\"M 1228 531 \nL 3431 531 \nL 3431 0 \nL 469 0 \nL 469 531 \nQ 828 903 1448 1529 \nQ 2069 2156 2228 2338 \nQ 2531 2678 2651 2914 \nQ 2772 3150 2772 3378 \nQ 2772 3750 2511 3984 \nQ 2250 4219 1831 4219 \nQ 1534 4219 1204 4116 \nQ 875 4013 500 3803 \nL 500 4441 \nQ 881 4594 1212 4672 \nQ 1544 4750 1819 4750 \nQ 2544 4750 2975 4387 \nQ 3406 4025 3406 3419 \nQ 3406 3131 3298 2873 \nQ 3191 2616 2906 2266 \nQ 2828 2175 2409 1742 \nQ 1991 1309 1228 531 \nz\n\" id=\"DejaVuSans-32\" transform=\"scale(0.015625)\"/>\n       </defs>\n       <use xlink:href=\"#DejaVuSans-32\"/>\n       <use x=\"63.623047\" xlink:href=\"#DejaVuSans-30\"/>\n      </g>\n     </g>\n    </g>\n    <g id=\"xtick_4\">\n     <g id=\"line2d_4\">\n      <g>\n       <use style=\"fill:#ffffff;stroke:#ffffff;stroke-width:0.8;\" x=\"227.939489\" xlink:href=\"#m33adb80848\" y=\"224.64\"/>\n      </g>\n     </g>\n     <g id=\"text_4\">\n      <!-- 30 -->\n      <g style=\"fill:#ffffff;\" transform=\"translate(221.576989 239.238438)scale(0.1 -0.1)\">\n       <defs>\n        <path d=\"M 2597 2516 \nQ 3050 2419 3304 2112 \nQ 3559 1806 3559 1356 \nQ 3559 666 3084 287 \nQ 2609 -91 1734 -91 \nQ 1441 -91 1130 -33 \nQ 819 25 488 141 \nL 488 750 \nQ 750 597 1062 519 \nQ 1375 441 1716 441 \nQ 2309 441 2620 675 \nQ 2931 909 2931 1356 \nQ 2931 1769 2642 2001 \nQ 2353 2234 1838 2234 \nL 1294 2234 \nL 1294 2753 \nL 1863 2753 \nQ 2328 2753 2575 2939 \nQ 2822 3125 2822 3475 \nQ 2822 3834 2567 4026 \nQ 2313 4219 1838 4219 \nQ 1578 4219 1281 4162 \nQ 984 4106 628 3988 \nL 628 4550 \nQ 988 4650 1302 4700 \nQ 1616 4750 1894 4750 \nQ 2613 4750 3031 4423 \nQ 3450 4097 3450 3541 \nQ 3450 3153 3228 2886 \nQ 3006 2619 2597 2516 \nz\n\" id=\"DejaVuSans-33\" transform=\"scale(0.015625)\"/>\n       </defs>\n       <use xlink:href=\"#DejaVuSans-33\"/>\n       <use x=\"63.623047\" xlink:href=\"#DejaVuSans-30\"/>\n      </g>\n     </g>\n    </g>\n    <g id=\"xtick_5\">\n     <g id=\"line2d_5\">\n      <g>\n       <use style=\"fill:#ffffff;stroke:#ffffff;stroke-width:0.8;\" x=\"288.812216\" xlink:href=\"#m33adb80848\" y=\"224.64\"/>\n      </g>\n     </g>\n     <g id=\"text_5\">\n      <!-- 40 -->\n      <g style=\"fill:#ffffff;\" transform=\"translate(282.449716 239.238438)scale(0.1 -0.1)\">\n       <defs>\n        <path d=\"M 2419 4116 \nL 825 1625 \nL 2419 1625 \nL 2419 4116 \nz\nM 2253 4666 \nL 3047 4666 \nL 3047 1625 \nL 3713 1625 \nL 3713 1100 \nL 3047 1100 \nL 3047 0 \nL 2419 0 \nL 2419 1100 \nL 313 1100 \nL 313 1709 \nL 2253 4666 \nz\n\" id=\"DejaVuSans-34\" transform=\"scale(0.015625)\"/>\n       </defs>\n       <use xlink:href=\"#DejaVuSans-34\"/>\n       <use x=\"63.623047\" xlink:href=\"#DejaVuSans-30\"/>\n      </g>\n     </g>\n    </g>\n    <g id=\"xtick_6\">\n     <g id=\"line2d_6\">\n      <g>\n       <use style=\"fill:#ffffff;stroke:#ffffff;stroke-width:0.8;\" x=\"349.684943\" xlink:href=\"#m33adb80848\" y=\"224.64\"/>\n      </g>\n     </g>\n     <g id=\"text_6\">\n      <!-- 50 -->\n      <g style=\"fill:#ffffff;\" transform=\"translate(343.322443 239.238438)scale(0.1 -0.1)\">\n       <defs>\n        <path d=\"M 691 4666 \nL 3169 4666 \nL 3169 4134 \nL 1269 4134 \nL 1269 2991 \nQ 1406 3038 1543 3061 \nQ 1681 3084 1819 3084 \nQ 2600 3084 3056 2656 \nQ 3513 2228 3513 1497 \nQ 3513 744 3044 326 \nQ 2575 -91 1722 -91 \nQ 1428 -91 1123 -41 \nQ 819 9 494 109 \nL 494 744 \nQ 775 591 1075 516 \nQ 1375 441 1709 441 \nQ 2250 441 2565 725 \nQ 2881 1009 2881 1497 \nQ 2881 1984 2565 2268 \nQ 2250 2553 1709 2553 \nQ 1456 2553 1204 2497 \nQ 953 2441 691 2322 \nL 691 4666 \nz\n\" id=\"DejaVuSans-35\" transform=\"scale(0.015625)\"/>\n       </defs>\n       <use xlink:href=\"#DejaVuSans-35\"/>\n       <use x=\"63.623047\" xlink:href=\"#DejaVuSans-30\"/>\n      </g>\n     </g>\n    </g>\n   </g>\n   <g id=\"matplotlib.axis_2\">\n    <g id=\"ytick_1\">\n     <g id=\"line2d_7\">\n      <defs>\n       <path d=\"M 0 0 \nL -3.5 0 \n\" id=\"m763d73d0c3\" style=\"stroke:#ffffff;stroke-width:0.8;\"/>\n      </defs>\n      <g>\n       <use style=\"fill:#ffffff;stroke:#ffffff;stroke-width:0.8;\" x=\"30.103125\" xlink:href=\"#m763d73d0c3\" y=\"214.756364\"/>\n      </g>\n     </g>\n     <g id=\"text_7\">\n      <!-- 1.0 -->\n      <g style=\"fill:#ffffff;\" transform=\"translate(7.2 218.555582)scale(0.1 -0.1)\">\n       <defs>\n        <path d=\"M 684 794 \nL 1344 794 \nL 1344 0 \nL 684 0 \nL 684 794 \nz\n\" id=\"DejaVuSans-2e\" transform=\"scale(0.015625)\"/>\n       </defs>\n       <use xlink:href=\"#DejaVuSans-31\"/>\n       <use x=\"63.623047\" xlink:href=\"#DejaVuSans-2e\"/>\n       <use x=\"95.410156\" xlink:href=\"#DejaVuSans-30\"/>\n      </g>\n     </g>\n    </g>\n    <g id=\"ytick_2\">\n     <g id=\"line2d_8\">\n      <g>\n       <use style=\"fill:#ffffff;stroke:#ffffff;stroke-width:0.8;\" x=\"30.103125\" xlink:href=\"#m763d73d0c3\" y=\"182.412295\"/>\n      </g>\n     </g>\n     <g id=\"text_8\">\n      <!-- 1.2 -->\n      <g style=\"fill:#ffffff;\" transform=\"translate(7.2 186.211513)scale(0.1 -0.1)\">\n       <use xlink:href=\"#DejaVuSans-31\"/>\n       <use x=\"63.623047\" xlink:href=\"#DejaVuSans-2e\"/>\n       <use x=\"95.410156\" xlink:href=\"#DejaVuSans-32\"/>\n      </g>\n     </g>\n    </g>\n    <g id=\"ytick_3\">\n     <g id=\"line2d_9\">\n      <g>\n       <use style=\"fill:#ffffff;stroke:#ffffff;stroke-width:0.8;\" x=\"30.103125\" xlink:href=\"#m763d73d0c3\" y=\"150.068226\"/>\n      </g>\n     </g>\n     <g id=\"text_9\">\n      <!-- 1.4 -->\n      <g style=\"fill:#ffffff;\" transform=\"translate(7.2 153.867445)scale(0.1 -0.1)\">\n       <use xlink:href=\"#DejaVuSans-31\"/>\n       <use x=\"63.623047\" xlink:href=\"#DejaVuSans-2e\"/>\n       <use x=\"95.410156\" xlink:href=\"#DejaVuSans-34\"/>\n      </g>\n     </g>\n    </g>\n    <g id=\"ytick_4\">\n     <g id=\"line2d_10\">\n      <g>\n       <use style=\"fill:#ffffff;stroke:#ffffff;stroke-width:0.8;\" x=\"30.103125\" xlink:href=\"#m763d73d0c3\" y=\"117.724157\"/>\n      </g>\n     </g>\n     <g id=\"text_10\">\n      <!-- 1.6 -->\n      <g style=\"fill:#ffffff;\" transform=\"translate(7.2 121.523376)scale(0.1 -0.1)\">\n       <defs>\n        <path d=\"M 2113 2584 \nQ 1688 2584 1439 2293 \nQ 1191 2003 1191 1497 \nQ 1191 994 1439 701 \nQ 1688 409 2113 409 \nQ 2538 409 2786 701 \nQ 3034 994 3034 1497 \nQ 3034 2003 2786 2293 \nQ 2538 2584 2113 2584 \nz\nM 3366 4563 \nL 3366 3988 \nQ 3128 4100 2886 4159 \nQ 2644 4219 2406 4219 \nQ 1781 4219 1451 3797 \nQ 1122 3375 1075 2522 \nQ 1259 2794 1537 2939 \nQ 1816 3084 2150 3084 \nQ 2853 3084 3261 2657 \nQ 3669 2231 3669 1497 \nQ 3669 778 3244 343 \nQ 2819 -91 2113 -91 \nQ 1303 -91 875 529 \nQ 447 1150 447 2328 \nQ 447 3434 972 4092 \nQ 1497 4750 2381 4750 \nQ 2619 4750 2861 4703 \nQ 3103 4656 3366 4563 \nz\n\" id=\"DejaVuSans-36\" transform=\"scale(0.015625)\"/>\n       </defs>\n       <use xlink:href=\"#DejaVuSans-31\"/>\n       <use x=\"63.623047\" xlink:href=\"#DejaVuSans-2e\"/>\n       <use x=\"95.410156\" xlink:href=\"#DejaVuSans-36\"/>\n      </g>\n     </g>\n    </g>\n    <g id=\"ytick_5\">\n     <g id=\"line2d_11\">\n      <g>\n       <use style=\"fill:#ffffff;stroke:#ffffff;stroke-width:0.8;\" x=\"30.103125\" xlink:href=\"#m763d73d0c3\" y=\"85.380088\"/>\n      </g>\n     </g>\n     <g id=\"text_11\">\n      <!-- 1.8 -->\n      <g style=\"fill:#ffffff;\" transform=\"translate(7.2 89.179307)scale(0.1 -0.1)\">\n       <defs>\n        <path d=\"M 2034 2216 \nQ 1584 2216 1326 1975 \nQ 1069 1734 1069 1313 \nQ 1069 891 1326 650 \nQ 1584 409 2034 409 \nQ 2484 409 2743 651 \nQ 3003 894 3003 1313 \nQ 3003 1734 2745 1975 \nQ 2488 2216 2034 2216 \nz\nM 1403 2484 \nQ 997 2584 770 2862 \nQ 544 3141 544 3541 \nQ 544 4100 942 4425 \nQ 1341 4750 2034 4750 \nQ 2731 4750 3128 4425 \nQ 3525 4100 3525 3541 \nQ 3525 3141 3298 2862 \nQ 3072 2584 2669 2484 \nQ 3125 2378 3379 2068 \nQ 3634 1759 3634 1313 \nQ 3634 634 3220 271 \nQ 2806 -91 2034 -91 \nQ 1263 -91 848 271 \nQ 434 634 434 1313 \nQ 434 1759 690 2068 \nQ 947 2378 1403 2484 \nz\nM 1172 3481 \nQ 1172 3119 1398 2916 \nQ 1625 2713 2034 2713 \nQ 2441 2713 2670 2916 \nQ 2900 3119 2900 3481 \nQ 2900 3844 2670 4047 \nQ 2441 4250 2034 4250 \nQ 1625 4250 1398 4047 \nQ 1172 3844 1172 3481 \nz\n\" id=\"DejaVuSans-38\" transform=\"scale(0.015625)\"/>\n       </defs>\n       <use xlink:href=\"#DejaVuSans-31\"/>\n       <use x=\"63.623047\" xlink:href=\"#DejaVuSans-2e\"/>\n       <use x=\"95.410156\" xlink:href=\"#DejaVuSans-38\"/>\n      </g>\n     </g>\n    </g>\n    <g id=\"ytick_6\">\n     <g id=\"line2d_12\">\n      <g>\n       <use style=\"fill:#ffffff;stroke:#ffffff;stroke-width:0.8;\" x=\"30.103125\" xlink:href=\"#m763d73d0c3\" y=\"53.036019\"/>\n      </g>\n     </g>\n     <g id=\"text_12\">\n      <!-- 2.0 -->\n      <g style=\"fill:#ffffff;\" transform=\"translate(7.2 56.835238)scale(0.1 -0.1)\">\n       <use xlink:href=\"#DejaVuSans-32\"/>\n       <use x=\"63.623047\" xlink:href=\"#DejaVuSans-2e\"/>\n       <use x=\"95.410156\" xlink:href=\"#DejaVuSans-30\"/>\n      </g>\n     </g>\n    </g>\n    <g id=\"ytick_7\">\n     <g id=\"line2d_13\">\n      <g>\n       <use style=\"fill:#ffffff;stroke:#ffffff;stroke-width:0.8;\" x=\"30.103125\" xlink:href=\"#m763d73d0c3\" y=\"20.69195\"/>\n      </g>\n     </g>\n     <g id=\"text_13\">\n      <!-- 2.2 -->\n      <g style=\"fill:#ffffff;\" transform=\"translate(7.2 24.491169)scale(0.1 -0.1)\">\n       <use xlink:href=\"#DejaVuSans-32\"/>\n       <use x=\"63.623047\" xlink:href=\"#DejaVuSans-2e\"/>\n       <use x=\"95.410156\" xlink:href=\"#DejaVuSans-32\"/>\n      </g>\n     </g>\n    </g>\n   </g>\n   <g id=\"line2d_14\">\n    <path clip-path=\"url(#p4daa48aa28)\" d=\"M 45.321307 214.756364 \nL 51.40858 69.208054 \nL 57.495852 51.418816 \nL 63.583125 24.088077 \nL 69.670398 23.263304 \nL 75.75767 17.879633 \nL 81.844943 18.253046 \nL 87.932216 17.13897 \nL 94.019489 17.32506 \nL 100.106761 17.083636 \nL 106.194034 17.144997 \nL 112.281307 17.090576 \nL 118.36858 17.10829 \nL 124.455852 17.095634 \nL 130.543125 17.100443 \nL 136.630398 17.097431 \nL 142.71767 17.098694 \nL 148.804943 17.097965 \nL 154.892216 17.098291 \nL 160.979489 17.098112 \nL 167.066761 17.098195 \nL 173.154034 17.098151 \nL 179.241307 17.098172 \nL 185.32858 17.098161 \nL 191.415852 17.098167 \nL 197.503125 17.098164 \nL 203.590398 17.098165 \nL 209.67767 17.098165 \nL 215.764943 17.098165 \nL 221.852216 17.098165 \nL 227.939489 17.098165 \nL 234.026761 17.098165 \nL 240.114034 17.098165 \nL 246.201307 17.098165 \nL 252.28858 17.098165 \nL 258.375852 17.098165 \nL 264.463125 17.098165 \nL 270.550398 17.098165 \nL 276.63767 17.098165 \nL 282.724943 17.098165 \nL 288.812216 17.098165 \nL 294.899489 17.098165 \nL 300.986761 17.098165 \nL 307.074034 17.098165 \nL 313.161307 17.098165 \nL 319.24858 17.098165 \nL 325.335852 17.098165 \nL 331.423125 17.098165 \nL 337.510398 17.098165 \nL 343.59767 17.098165 \nL 349.684943 17.098165 \n\" style=\"fill:none;stroke:#8dd3c7;stroke-linecap:square;stroke-width:1.5;\"/>\n   </g>\n   <g id=\"patch_3\">\n    <path d=\"M 30.103125 224.64 \nL 30.103125 7.2 \n\" style=\"fill:none;stroke:#ffffff;stroke-linecap:square;stroke-linejoin:miter;stroke-width:0.8;\"/>\n   </g>\n   <g id=\"patch_4\">\n    <path d=\"M 364.903125 224.64 \nL 364.903125 7.2 \n\" style=\"fill:none;stroke:#ffffff;stroke-linecap:square;stroke-linejoin:miter;stroke-width:0.8;\"/>\n   </g>\n   <g id=\"patch_5\">\n    <path d=\"M 30.103125 224.64 \nL 364.903125 224.64 \n\" style=\"fill:none;stroke:#ffffff;stroke-linecap:square;stroke-linejoin:miter;stroke-width:0.8;\"/>\n   </g>\n   <g id=\"patch_6\">\n    <path d=\"M 30.103125 7.2 \nL 364.903125 7.2 \n\" style=\"fill:none;stroke:#ffffff;stroke-linecap:square;stroke-linejoin:miter;stroke-width:0.8;\"/>\n   </g>\n  </g>\n </g>\n <defs>\n  <clipPath id=\"p4daa48aa28\">\n   <rect height=\"217.44\" width=\"334.8\" x=\"30.103125\" y=\"7.2\"/>\n  </clipPath>\n </defs>\n</svg>\n",
      "text/plain": [
       "<Figure size 432x288 with 1 Axes>"
      ]
     },
     "metadata": {},
     "output_type": "display_data"
    }
   ],
   "source": [
    "from matplotlib import pyplot as plt\n",
    "from control.matlab import step, impulse, tf\n",
    "\n",
    "z_tf = tf(\"z\")\n",
    "h_tf = sp.lambdify((z,), h_z_)(z_tf)\n",
    "plt.plot(*reversed(step(h_tf)))\n"
   ]
  },
  {
   "cell_type": "markdown",
   "metadata": {},
   "source": [
    "## Ejercicio 2\n",
    "\n",
    "Un sistema discreto está descripto por la siguiente ecuación a diferencias:\n",
    "$$ x[n] = 1/8 y[n−2]−3/4y[n − 1] + y[n]$$\n",
    "Determinar:\n",
    "\n",
    "1) La función de transferencia del sistema en el dominio discreto.\n",
    "2) La respuesta al impulso del sistema.\n",
    "3) La respuesta al escalón del sistema. "
   ]
  },
  {
   "cell_type": "markdown",
   "metadata": {},
   "source": [
    "### Resolución"
   ]
  },
  {
   "cell_type": "code",
   "execution_count": 7,
   "metadata": {},
   "outputs": [
    {
     "data": {
      "image/png": "[encoded data removed]",
      "text/latex": [
       "$\\displaystyle x(n) = y(n) + 0.125 y(n - 2) - 0.75 y(n - 1)$"
      ],
      "text/plain": [
       "x(n) = y(n) + 0.125⋅y(n - 2) - 0.75⋅y(n - 1)"
      ]
     },
     "execution_count": 7,
     "metadata": {},
     "output_type": "execute_result"
    }
   ],
   "source": [
    "y, x = sp.symbols(\"y x\", cls=sp.Function)\n",
    "y_z, x_z, h_z = sp.symbols(\"Y X H\", cls=sp.Function)\n",
    "n = sp.symbols(\"n\", integer=True)\n",
    "z = sp.symbols(\"z\")\n",
    "\n",
    "sys2 = sp.Eq(x(n), 1/8*y(n-2)-3/4*y(n - 1) + y(n))\n",
    "sys2"
   ]
  },
  {
   "cell_type": "code",
   "execution_count": 8,
   "metadata": {},
   "outputs": [],
   "source": [
    "def eqmap(func, eq):\n",
    "    return sp.Eq(func(eq.lhs), func(eq.rhs))"
   ]
  },
  {
   "cell_type": "code",
   "execution_count": 9,
   "metadata": {},
   "outputs": [
    {
     "data": {
      "image/png": "[encoded data removed]",
      "text/latex": [
       "$\\displaystyle H(z) = \\frac{8.0 z^{2}}{8.0 z^{2} - 6.0 z + 1.0}$"
      ],
      "text/plain": [
       "                   2       \n",
       "              8.0⋅z        \n",
       "H(z) = ────────────────────\n",
       "            2              \n",
       "       8.0⋅z  - 6.0⋅z + 1.0"
      ]
     },
     "execution_count": 9,
     "metadata": {},
     "output_type": "execute_result"
    }
   ],
   "source": [
    "to_z = lambda expr: fsubs(expr, {x: n_to_z(x_z, z, n), y: n_to_z(y_z, z, n)})\n",
    "\n",
    "h_z_, = sp.solve(\n",
    "    eqmap(lambda expr: to_z(expr)/x_z(z), sys2).simplify(),\n",
    "    y_z(z)/x_z(z))\n",
    "sp.Eq(h_z(z), h_z_)"
   ]
  },
  {
   "cell_type": "markdown",
   "metadata": {},
   "source": [
    "Respuesta al escalón"
   ]
  },
  {
   "cell_type": "code",
   "execution_count": 10,
   "metadata": {},
   "outputs": [
    {
     "data": {
      "text/latex": [
       "$\\displaystyle 0.333333333333333 \\cdot 0.25^{n} - 2.0 \\cdot 0.5^{n} + 2.66666666666667 \\cdot 1.0^{n} \\;\\; \\text{for}\\: n \\geq 0$"
      ],
      "text/plain": [
       "                      n          n                       n           \n",
       "0.333333333333333⋅0.25  - 2.0⋅0.5  + 2.66666666666667⋅1.0   for n ≥ 0"
      ]
     },
     "execution_count": 10,
     "metadata": {},
     "output_type": "execute_result"
    }
   ],
   "source": [
    "inverse_ztransform(\n",
    "    h_z_*z/(z-1),\n",
    "    z,\n",
    "    n\n",
    ")"
   ]
  },
  {
   "cell_type": "markdown",
   "metadata": {},
   "source": [
    "Respuesta al impulso"
   ]
  },
  {
   "cell_type": "code",
   "execution_count": 11,
   "metadata": {},
   "outputs": [
    {
     "data": {
      "text/latex": [
       "$\\displaystyle - 1.0 \\cdot 0.25^{n} + 2.0 \\cdot 0.5^{n} \\;\\; \\text{for}\\: n \\geq 0$"
      ],
      "text/plain": [
       "      n          n           \n",
       "- 0.25  + 2.0⋅0.5   for n ≥ 0"
      ]
     },
     "execution_count": 11,
     "metadata": {},
     "output_type": "execute_result"
    }
   ],
   "source": [
    "inverse_ztransform(\n",
    "    h_z_,\n",
    "    z,\n",
    "    n\n",
    ")"
   ]
  },
  {
   "cell_type": "markdown",
   "metadata": {},
   "source": [
    "## Ejercicio 3\n",
    "\n",
    "La salida de un filtro digital de señales es la siguiente:\n",
    "$$ y[n]=x[n]-x[n-1]-1/2y[n-1]−1.17y[n-2] $$\n",
    "\n",
    "Realice un diagrama de simulación del sistema (diagrama de bloques) y obtenga la función de\n",
    "transferencia del filtro, especificando el polinomio $A(z)$ y $B(z)$. Grafique el diagrama de polos y\n",
    "ceros y determine si el filtro es un sistema estable o inestable."
   ]
  },
  {
   "cell_type": "code",
   "execution_count": 12,
   "metadata": {},
   "outputs": [
    {
     "data": {
      "image/png": "[encoded data removed]",
      "text/latex": [
       "$\\displaystyle y(n) = x(n) - x(n - 1) - 1.17 y(n - 2) - 0.5 y(n - 1)$"
      ],
      "text/plain": [
       "y(n) = x(n) - x(n - 1) - 1.17⋅y(n - 2) - 0.5⋅y(n - 1)"
      ]
     },
     "execution_count": 12,
     "metadata": {},
     "output_type": "execute_result"
    }
   ],
   "source": [
    "sys3 = sp.Eq(y(n), x(n)-x(n-1)-1/2*y(n-1)-1.17*y(n-2))\n",
    "sys3"
   ]
  },
  {
   "cell_type": "code",
   "execution_count": 13,
   "metadata": {},
   "outputs": [],
   "source": [
    "def diff_eq_to_z(diff_eq, n, x, y, z):\n",
    "    \"\"\"\n",
    "    Returns the system response in the z plane for very simplistic\n",
    "    difference equations or recurring relations\n",
    "    \"\"\"\n",
    "    x_z, y_z = sp.symbols(\"X Y\", cls=lambda name: sp.Function(sp.Dummy(name)))\n",
    "    to_z = lambda expr: fsubs(\n",
    "        expr, {\n",
    "            x: n_to_z(x_z, z, n),\n",
    "            y: n_to_z(y_z, z, n)\n",
    "        })\n",
    "    z_eq = eqmap(to_z, diff_eq)\n",
    "    h_z_, =  sp.solve(\n",
    "        eqmap(lambda expr: (expr-z_eq.lhs + y_z(z))/x_z(z), z_eq).simplify(),\n",
    "        y_z(z)/x_z(z),\n",
    "    )\n",
    "    return h_z_"
   ]
  },
  {
   "cell_type": "code",
   "execution_count": 14,
   "metadata": {},
   "outputs": [
    {
     "data": {
      "image/png": "[encoded data removed]",
      "text/latex": [
       "$\\displaystyle H(z) = \\frac{100.0 z \\left(z - 1.0\\right)}{100.0 z^{2} + 50.0 z + 117.0}$"
      ],
      "text/plain": [
       "           100.0⋅z⋅(z - 1.0)    \n",
       "H(z) = ─────────────────────────\n",
       "              2                 \n",
       "       100.0⋅z  + 50.0⋅z + 117.0"
      ]
     },
     "execution_count": 14,
     "metadata": {},
     "output_type": "execute_result"
    }
   ],
   "source": [
    "h_z_ = diff_eq_to_z(sys3, n, x, y, z)\n",
    "sp.Eq(h_z(z), h_z_)"
   ]
  },
  {
   "cell_type": "code",
   "execution_count": 15,
   "metadata": {},
   "outputs": [
    {
     "data": {
      "image/png": "[encoded data removed]",
      "text/latex": [
       "$\\displaystyle \\left( B(z) = 100.0 - \\frac{100.0}{z}, \\  A(z) = 100.0 + \\frac{50.0}{z} + \\frac{117.0}{z^{2}}\\right)$"
      ],
      "text/plain": [
       "⎛               100.0                 50.0   117.0⎞\n",
       "⎜B(z) = 100.0 - ─────, A(z) = 100.0 + ──── + ─────⎟\n",
       "⎜                 z                    z        2 ⎟\n",
       "⎝                                              z  ⎠"
      ]
     },
     "execution_count": 15,
     "metadata": {},
     "output_type": "execute_result"
    }
   ],
   "source": [
    "a_z, b_z = sp.symbols(\"A B\", cls=sp.Function)\n",
    "\n",
    "def num_den(expr):\n",
    "    expr = sp.together(expr)\n",
    "    return sp.numer(expr), sp.denom(expr)\n",
    "\n",
    "h_num, h_den = [x.subs(z, 1/z) for x in num_den(h_z_.subs(z, 1/z).simplify())]\n",
    "\n",
    "sp.Eq(b_z(z), h_num), sp.Eq(a_z(z), h_den)"
   ]
  },
  {
   "cell_type": "markdown",
   "metadata": {},
   "source": [
    "## Ejercicio 4\n",
    "\n",
    "Defina tres funciones de transferencias de sistemas de filtrado digital que cumplan con las\n",
    "condiciones de estabilidad, inestabilidad y estabilidad marginal. En base a estas $H(z)$ propuestas\n",
    "y el software de simulación que considere oportuno, realice:\n",
    "\n",
    "1. Grafique los diagramas de polos y ceros de cada función de transferencia, y demuestre en\n",
    "base a ellos, la estabilidad del sistema.\n",
    "2. Genere una entrada que deje en evidencia la estabilidad del sistema, y grafique la entrada\n",
    "y salida del mismo."
   ]
  },
  {
   "cell_type": "markdown",
   "metadata": {},
   "source": [
    "## Ejercicio 5\n",
    "\n",
    "Defina que es un filtro FIR e IIR, y escriba con sus propias palabras las ventajas y desventajas de\n",
    "uno respecto al otro. ¿Podría citar ejemplos prácticos en donde sea conveniente implementar uno\n",
    "u otro tipo de filtro? "
   ]
  },
  {
   "cell_type": "markdown",
   "metadata": {},
   "source": [
    "## Ejercicio 6\n",
    "\n",
    "El método de diseño de filtros por muestreo en frecuencia implica tomar muestras en la frecuencia\n",
    "para luego, mediante ellas, obtener un filtro fácil de implementar ¿Podría decir cuál es la principal\n",
    "ventaja de este método que lo hace único respeto a otras alternativas de diseño? "
   ]
  },
  {
   "cell_type": "markdown",
   "metadata": {},
   "source": [
    "## Ejercicio 7\n",
    "\n",
    "Se requiere un filtro FIR elimina banda con las siguientes especificaciones:\n",
    "\n",
    "* Banda de paso inferior: $0$ – $1.200 \\mathrm{Hz}$.\n",
    "* Banda de atenuación: $1.600$ – $2.000 \\mathrm{Hz}$.\n",
    "* Banda de paso superior: $2.400$ – $4.000 \\mathrm{Hz}$.\n",
    "* Ripple en la banda de paso: $0,05 \\mathrm{dB}$\n",
    "* Atenuación mínima en la banda de atenuación: $60 \\mathrm{dB}$\n",
    "* Tasa de muestreo: $8.000 \\mathrm{Hz}$.\n",
    "\n",
    "Determinar:\n",
    "1) La ventana requerida para el diseño del filtro.\n",
    "2) La longitud del filtro FIR requerida.\n",
    "3) La frecuencia de corte para las ecuaciones de diseño."
   ]
  },
  {
   "cell_type": "markdown",
   "metadata": {},
   "source": [
    "## Ejercicio 8\n",
    "\n",
    "En un sistema de grabación de voz con una frecuencia de muestreo de $10.000\\mathrm{Hz}$, la señal está\n",
    "corrompida por un ruido aleatorio de banda ancha. Para removerlo, se proponen las siguientes\n",
    "especificaciones:\n",
    "\n",
    "* Rango de la señal de interés (voz): $0$ – $3.000 \\mathrm{Hz}$.\n",
    "* Rango de rechazo: $4.000$ – $5.000 \\mathrm{Hz}$.\n",
    "* Ripple en la banda de paso: $0,1 \\mathrm{dB}$\n",
    "* Atenuación: $45 \\mathrm{dB}$.\n",
    "\n",
    "Determinar:\n",
    "\n",
    "1) La ventana requerida\n",
    "2) La longitud del filtro FIR\n",
    "3) La frecuencia de corte\n",
    "\n",
    "Utilizar algún software de simulación para diseñar el filtro y graficar la respuesta en frecuencia."
   ]
  },
  {
   "cell_type": "markdown",
   "metadata": {},
   "source": [
    "## Ejercicio 9\n",
    "\n",
    "Un ingeniero de audio intenta ecualizar una señal de voz muestreada a $8.000 \\mathrm{Hz}$ utilizando un\n",
    "filtro FIR de fase lineal basado en las especificaciones de magnitud de la figura. Proponga una\n",
    "posible solución y, utilizando una señal de audio con voz humana, muestre gráficamente la señal\n",
    "previa y posterior al filtro.\n",
    "\n",
    "![](./res/tp3/ej9/plot.png)"
   ]
  },
  {
   "cell_type": "markdown",
   "metadata": {},
   "source": [
    "## Ejercicio 10\n",
    "\n",
    "Un proyecto de detección de actividad ilegal en áreas naturales protegidas de Misiones busca dar\n",
    "aviso automático a las fuerzas ante eventos de caza furtiva y extracción de madera nativa. Para\n",
    "ello se necesita diseñar un sistema de monitoreo acústico que permita identificar sonidos de perros\n",
    "en actitud de caza y motosierras. Se han grabado estos eventos y se requiere diseñar un sistema\n",
    "digital que, ante una señal de entrada (proveniente de un micrófono) permita aislar ambos sonidos\n",
    "para generar una señal $p(n)$ asociada a los perros y otra $m(n)$ asociada a las motosierras. Tomando\n",
    "como datos las señales `grabacion_perros.wav`, `grabacion_motosierra.wav` y\n",
    "`mezcla_perros_motosierra.wav` del aula virtual, se pide:\n",
    "\n",
    "1) Describir frecuencialmente ambos eventos mediante su análisis espectral; comente, por\n",
    "ejemplo, si existe solapamientos en algunas bandas y si es que estos sonidos tienen algunas\n",
    "bandas específicas en donde concentren sus características.\n",
    "2) Diseñar y simular un sistema digital de una entrada y dos salidas como el de la siguiente\n",
    "figura, el cual alimentará una etapa de detección posterior. Probar el sistema con el audio\n",
    "`mezcla_perros_motosierra.wav`.\n",
    "3) Graficar los espectros de entrada y salida, y si utiliza filtros FIR, especificar y justificar\n",
    "detalladamente el método de diseño, las características de los filtros, su orden, atenuaciones,\n",
    "ripple, frecuencias de corte y ventanas utilizadas.\n",
    "4) Bajo su punto de vista: ¿Cree usted que es posible implementar este sistema en la práctica?\n",
    "¿Podría aproximar un porcentaje de eficiencia del mismo? ¿Qué sugerencias o\n",
    "inconvenientes encuentra para que este sistema pueda tener una eficiencia del 100%?\n",
    "\n",
    "![](./res/tp3/ej10/sys.png)"
   ]
  },
  {
   "cell_type": "code",
   "execution_count": 18,
   "metadata": {},
   "outputs": [],
   "source": [
    "from pathlib import Path\n",
    "from scipy.io import wavfile\n",
    "from utils.misc import Audio, mono\n",
    "from numericalunits import Hz, kHz\n",
    "import numpy as np\n",
    "\n",
    "resources = Path(\".\") / \"res\" / \"tp3\"\n",
    "r_ej10 = resources / \"ej10\"\n",
    "\n",
    "utext = lambda unit: f\"[$\\\\mathrm{{{unit}}}$]\"\n",
    "\n",
    "mot_freq, mot_dat = wavfile.read(r_ej10 / \"Grabacion_motosierra.wav\")\n",
    "mot_dat = mot_dat.astype(np.float32)/max(abs(mot_dat))\n",
    "mot_freq = mot_freq*Hz\n",
    "Audio(mot_dat.T, mot_freq/Hz);"
   ]
  },
  {
   "cell_type": "markdown",
   "metadata": {},
   "source": [
    "## Ejercicio 11\n",
    "\n",
    "Mediante el diseño de filtros IIR por el método de polos y ceros, se pide que se diseñe un filtro\n",
    "(o varios) del menor orden posible que permita eliminar los armónicos de $100$, $150$ y $200 \\mathrm{Hz}$\n",
    "vinculados a la señal de la red eléctrica. Los anchos de bandas de rechazo de cada armónico deben\n",
    "ser de $5\\mathrm{Hz}$. ¿Qué frecuencia de muestreo sugiere para su implementación? Grafique el diagrama\n",
    "de polos y ceros, analice su estabilidad y obtenga la ecuación a diferencias que permita la\n",
    "implementación práctica del filtro."
   ]
  },
  {
   "cell_type": "markdown",
   "metadata": {},
   "source": [
    "## Ejercicio 12\n",
    "\n",
    "La función de transferencia de un filtro analógico está determinada por $H(s)=\\frac{10}{10+s}$.\n",
    "Utilizando la transformación bilineal, obtenga la función de transferencia del filtro digital\n",
    "asociado a $H(s)$ y que trabaja a una frecuencia de muestreo de $100\\mathrm{Hz}$. Además encuentre la\n",
    "ecuación a diferencias de dicho filtro y determine si se trata de un filtro estable o inestable\n",
    "mediante el gráfico de polos y ceros."
   ]
  },
  {
   "cell_type": "markdown",
   "metadata": {},
   "source": [
    "## Ejercicio 13\n",
    "\n",
    "Diseñe y simule un sistema digital de filtrado que, con el menor orden posible, permita\n",
    "atenuaciones mínimas de $60 \\mathrm{dB}$ a señales que superen los $500 \\mathrm{Hz}$. Además, la señal que se desea\n",
    "filtrar debe sufrir la menor modificación posible en la banda de paso, la cual está comprendida\n",
    "entre la componente de CC y los $250\\mathrm{Hz}$ ¿Qué tipo de filtro recomienda implementar, y de qué\n",
    "orden sería? Grafique su respuesta en frecuencia (completa) y simule su funcionamiento con una\n",
    "señal de entrada $x(t)$."
   ]
  },
  {
   "cell_type": "markdown",
   "metadata": {},
   "source": [
    "## Ejercicio 14\n",
    "\n",
    "Se debe diseñar e implementar en un DSP un filtro IIR Butterworth que funcione en tiempo real\n",
    "y que permita eliminar la componente de $50\\mathrm{Hz}$ inducida en un enlace de datos de baja frecuencia.\n",
    "Las especificaciones aclaran que se requieren como mínimo $35\\mathrm{dB}$ de atenuación. Obtenga la\n",
    "ecuación a diferencias que se debe implementar en el DSP y simule la efectividad del filtro.\n",
    "Grafique además un diagrama de simulación en donde se vea la implementación práctica de la\n",
    "ecuación a diferencias."
   ]
  }
 ],
 "metadata": {
  "kernelspec": {
   "display_name": "Python 3.10.5 64-bit",
   "language": "python",
   "name": "python3"
  },
  "language_info": {
   "codemirror_mode": {
    "name": "ipython",
    "version": 3
   },
   "file_extension": ".py",
   "mimetype": "text/x-python",
   "name": "python",
   "nbconvert_exporter": "python",
   "pygments_lexer": "ipython3",
   "version": "3.10.5"
  },
  "orig_nbformat": 4,
  "vscode": {
   "interpreter": {
    "hash": "97cc609b13305c559618ec78a438abc56230b9381f827f22d070313b9a1f3777"
   }
  }
 },
 "nbformat": 4,
 "nbformat_minor": 2
}
